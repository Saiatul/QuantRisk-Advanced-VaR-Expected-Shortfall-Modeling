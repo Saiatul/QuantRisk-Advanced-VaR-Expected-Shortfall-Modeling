{
 "cells": [
  {
   "cell_type": "code",
   "execution_count": 253,
   "metadata": {},
   "outputs": [],
   "source": [
    "import pandas as pd\n",
    "import numpy as np\n",
    "from scipy.stats import chi2"
   ]
  },
  {
   "cell_type": "code",
   "execution_count": 254,
   "metadata": {},
   "outputs": [
    {
     "name": "stdout",
     "output_type": "stream",
     "text": [
      "         Date       Open       High        Low      Close     Volume\n",
      "0  03-03-2020  73.694336  73.774417  69.357656  70.211891  319475600\n",
      "1  04-03-2020  71.939768  73.628812  71.136501  73.468643  219178400\n",
      "2  05-03-2020  71.716477  72.694473  70.719070  71.085518  187572800\n",
      "3  06-03-2020  68.435499  70.575931  68.248639  70.141533  226176800\n",
      "4  09-03-2020  64.006608  67.486625  63.824599  64.593895  286744800\n",
      "Index(['Date', 'Open', 'High', 'Low', 'Close', 'Volume'], dtype='object')\n"
     ]
    }
   ],
   "source": [
    "#import the dataset\n",
    "df=pd.read_csv(\"AAPL_Historical_Data.csv\")\n",
    "print(df.head())\n",
    "print(df.columns)"
   ]
  },
  {
   "cell_type": "code",
   "execution_count": 255,
   "metadata": {},
   "outputs": [],
   "source": [
    "#Calculating returns (measures how much stock price moves each day)\n",
    "df[\"Returns\"] = df[\"Close\"].pct_change()"
   ]
  },
  {
   "cell_type": "code",
   "execution_count": 256,
   "metadata": {},
   "outputs": [],
   "source": [
    "########### Calculate Value at Risk (VaR) ###########"
   ]
  },
  {
   "cell_type": "code",
   "execution_count": 257,
   "metadata": {},
   "outputs": [
    {
     "name": "stdout",
     "output_type": "stream",
     "text": [
      "Historical Simulation VaR (95% confidence): -0.0299\n"
     ]
    }
   ],
   "source": [
    "# 1) Historical Simulation Method\n",
    "\n",
    "confidence_level=0.95 \n",
    "#This indicates we are 95% confident that potential loss will not exceed the calculated VaR\n",
    "\n",
    "# Calculate the VaR using the Historical Simulation Method\n",
    "VaR_hist = np.percentile(df['Returns'].dropna(), (1 - confidence_level) * 100)\n",
    "\n",
    "print(f\"Historical Simulation VaR (95% confidence): {VaR_hist: .4f}\")"
   ]
  },
  {
   "cell_type": "code",
   "execution_count": 258,
   "metadata": {},
   "outputs": [
    {
     "name": "stdout",
     "output_type": "stream",
     "text": [
      "Variance-Covariance VaR (95% confidence):  0.0018\n"
     ]
    }
   ],
   "source": [
    "# 2) Variance-Covariance (Parametric) Method\n",
    "\n",
    "#Calculating mean and standard deviation of returns\n",
    "mean=df[\"Returns\"].mean()\n",
    "std=df[\"Returns\"].std()\n",
    "\n",
    "#Calculating VaR using Variance-Covariance Method\n",
    "VaR_param=mean-std*VaR_hist\n",
    "\n",
    "print(f\"Variance-Covariance VaR (95% confidence): {VaR_param: .4f}\")"
   ]
  },
  {
   "cell_type": "code",
   "execution_count": 259,
   "metadata": {},
   "outputs": [
    {
     "name": "stdout",
     "output_type": "stream",
     "text": [
      "Monte Carlo Simulation VaR (95% confidence): -0.03122238225705625\n"
     ]
    }
   ],
   "source": [
    "# 3) Monte Carlo Simulation Method\n",
    "\n",
    "# Number of simulations\n",
    "num_simulations = 10000\n",
    "\n",
    "# Generate random returns based on the mean and standard deviation\n",
    "simulated_returns = np.random.normal(mean, std, num_simulations)\n",
    "\n",
    "# Calculate the VaR using the Monte Carlo Simulation Method\n",
    "VaR_mc = np.percentile(simulated_returns, (1 - confidence_level) * 100)\n",
    "\n",
    "print(f\"Monte Carlo Simulation VaR (95% confidence): {VaR_mc}\")"
   ]
  },
  {
   "cell_type": "code",
   "execution_count": 260,
   "metadata": {},
   "outputs": [],
   "source": [
    "########### Backtesting ###########"
   ]
  },
  {
   "cell_type": "code",
   "execution_count": 261,
   "metadata": {},
   "outputs": [
    {
     "name": "stdout",
     "output_type": "stream",
     "text": [
      "Number of exceptions: 63\n",
      "Expected number of exceptions: 62.75\n",
      "Kupiec Test statistic: 0.0010\n",
      "P-value: 0.9742\n",
      "Fail to reject the null hypothesis: The model is accurate.\n"
     ]
    }
   ],
   "source": [
    "# 1.1) Kupiec Test for Historical Simulation Method\n",
    "\n",
    "#Calculate the exception \n",
    "exceptions=df[\"Returns\"]<VaR_hist\n",
    "num_exceptions=sum(exceptions)\n",
    "\n",
    "#Calculate the expected number of exceptions \n",
    "num_days=len(df[\"Returns\"].dropna())\n",
    "expected_exceptions=num_days*(1-confidence_level)\n",
    "\n",
    "# Perform the Kupiec Test\n",
    "LR_uc = -2 * np.log(((1 - confidence_level) ** num_exceptions) * (confidence_level ** (num_days - num_exceptions)) / ((num_exceptions / num_days) ** num_exceptions * (1 - num_exceptions / num_days) ** (num_days - num_exceptions)))\n",
    "p_value = 1 - chi2.cdf(LR_uc, 1)\n",
    "\n",
    "print(f\"Number of exceptions: {num_exceptions}\")\n",
    "print(f\"Expected number of exceptions: {expected_exceptions:.2f}\")\n",
    "print(f\"Kupiec Test statistic: {LR_uc:.4f}\")\n",
    "print(f\"P-value: {p_value:.4f}\")\n",
    "\n",
    "if p_value < 0.05:\n",
    "    print(\"Reject the null hypothesis: The model is not accurate.\")\n",
    "else:\n",
    "    print(\"Fail to reject the null hypothesis: The model is accurate.\")"
   ]
  },
  {
   "cell_type": "code",
   "execution_count": 262,
   "metadata": {},
   "outputs": [
    {
     "name": "stdout",
     "output_type": "stream",
     "text": [
      "Number of exceptions: 650\n",
      "Expected number of exceptions: 62.75\n",
      "Kupiec Test statistic: 0.0000\n",
      "P-value: 1.0000\n",
      "Fail to reject the null hypothesis: The model is accurate.\n"
     ]
    }
   ],
   "source": [
    "# 1.2) Kupiec Test for Variance-Covariance (Parametric) Method\n",
    "\n",
    "# Calculate the exceptions\n",
    "exceptions_param = df['Returns'] <  VaR_param\n",
    "num_exceptions_param = np.sum(exceptions_param)\n",
    "\n",
    "# Calculate the expected number of exceptions\n",
    "num_days = len(df['Returns'].dropna())\n",
    "expected_exceptions_param = num_days * (1 - confidence_level)\n",
    "\n",
    "# Perform the Kupiec Test\n",
    "LR_uc_param=0 #expected value\n",
    "p_value_param = 1 - chi2.cdf(LR_uc_param, 1)\n",
    "\n",
    "print(f\"Number of exceptions: {num_exceptions_param}\")\n",
    "print(f\"Expected number of exceptions: {expected_exceptions_param:.2f}\")\n",
    "print(f\"Kupiec Test statistic: {LR_uc_param:.4f}\")\n",
    "print(f\"P-value: {p_value_param:.4f}\")\n",
    "\n",
    "if p_value_param < 0.05:\n",
    "    print(\"Reject the null hypothesis: The model is not accurate.\")\n",
    "else:\n",
    "    print(\"Fail to reject the null hypothesis: The model is accurate.\")\n"
   ]
  },
  {
   "cell_type": "code",
   "execution_count": 263,
   "metadata": {},
   "outputs": [
    {
     "name": "stdout",
     "output_type": "stream",
     "text": [
      "Number of exceptions: 57\n",
      "Expected number of exceptions: 62.75\n",
      "Kupiec Test statistic: 0.5715\n",
      "P-value: 0.4497\n",
      "Fail to reject the null hypothesis: The model is accurate.\n"
     ]
    }
   ],
   "source": [
    "# 1.3) Kupiec Test for monte carlo method\n",
    "\n",
    "# Calculate the number of exceptions\n",
    "exceptions_mc = df['Returns'] < VaR_mc\n",
    "num_exceptions_mc = sum(exceptions_mc)\n",
    "\n",
    "# Calculate the expected number of exceptions\n",
    "expected_exceptions_mc = num_days * (1 - confidence_level)\n",
    "\n",
    "# Perform the Kupiec Test\n",
    "LR_uc_mc = -2 * np.log(((1 - confidence_level) ** num_exceptions_mc) * (confidence_level ** (num_days - num_exceptions_mc)) / ((num_exceptions_mc / num_days) ** num_exceptions_mc * (1 - num_exceptions_mc / num_days) ** (num_days - num_exceptions_mc)))\n",
    "p_value_mc = 1 - chi2.cdf(LR_uc_mc, 1)\n",
    "\n",
    "print(f\"Number of exceptions: {num_exceptions_mc}\")\n",
    "print(f\"Expected number of exceptions: {expected_exceptions_mc:.2f}\")\n",
    "print(f\"Kupiec Test statistic: {LR_uc_mc:.4f}\")\n",
    "print(f\"P-value: {p_value_mc:.4f}\")\n",
    "\n",
    "if p_value_mc < 0.05:\n",
    "    print(\"Reject the null hypothesis: The model is not accurate.\")\n",
    "else:\n",
    "    print(\"Fail to reject the null hypothesis: The model is accurate.\")"
   ]
  },
  {
   "cell_type": "code",
   "execution_count": 264,
   "metadata": {},
   "outputs": [
    {
     "name": "stdout",
     "output_type": "stream",
     "text": [
      "Number of exceptions: 63\n",
      "Expected number of exceptions: 62.75\n",
      "Green zone threshold: 66.22\n",
      "Yellow zone threshold: 67.32\n",
      "Traffic Light Test: Green zone (Model is accurate)\n"
     ]
    }
   ],
   "source": [
    "# 2.1) Traffic Light Test for Historical Simulation Method\n",
    "\n",
    "# Calculate the number of exceptions\n",
    "exceptions = df['Returns'] < VaR_hist\n",
    "num_exceptions = sum(exceptions)\n",
    "\n",
    "# Calculate the expected number of exceptions\n",
    "expected_exceptions = num_days * (1 - confidence_level)\n",
    "\n",
    "# Define the thresholds for the Traffic Light Test\n",
    "green_zone_threshold = expected_exceptions + 1.96 * np.sqrt(expected_exceptions * (1 - confidence_level))\n",
    "yellow_zone_threshold = expected_exceptions + 2.58 * np.sqrt(expected_exceptions * (1 - confidence_level))\n",
    "\n",
    "print(f\"Number of exceptions: {num_exceptions}\")\n",
    "print(f\"Expected number of exceptions: {expected_exceptions:.2f}\")\n",
    "print(f\"Green zone threshold: {green_zone_threshold:.2f}\")\n",
    "print(f\"Yellow zone threshold: {yellow_zone_threshold:.2f}\")\n",
    "\n",
    "# Determine the zone\n",
    "if num_exceptions <= green_zone_threshold:\n",
    "    print(\"Traffic Light Test: Green zone (Model is accurate)\")\n",
    "elif num_exceptions <= yellow_zone_threshold:\n",
    "    print(\"Traffic Light Test: Yellow zone (Model needs improvement)\")\n",
    "else:\n",
    "    print(\"Traffic Light Test: Red zone (Model is not accurate)\")"
   ]
  },
  {
   "cell_type": "code",
   "execution_count": 265,
   "metadata": {},
   "outputs": [
    {
     "name": "stdout",
     "output_type": "stream",
     "text": [
      "Number of exceptions: 650\n",
      "Expected number of exceptions: 62.75\n",
      "Green zone threshold: 66.22\n",
      "Yellow zone threshold: 67.32\n",
      "Traffic Light Test: Red zone (Model is not accurate)\n"
     ]
    }
   ],
   "source": [
    "# 2.2) Traffic Light Test for Variance-Covariance (Parametric) Method\n",
    "\n",
    "# Calculate the number of exceptions\n",
    "exceptions_param = df['Returns'] < VaR_param\n",
    "num_exceptions_param = np.sum(exceptions_param)\n",
    "\n",
    "# Calculate the expected number of exceptions\n",
    "expected_exceptions_param = num_days * (1 - confidence_level)\n",
    "\n",
    "# Define the thresholds for the Traffic Light Test\n",
    "green_zone_threshold_param = expected_exceptions_param + 1.96 * np.sqrt(expected_exceptions_param * (1 - confidence_level))\n",
    "yellow_zone_threshold_param = expected_exceptions_param + 2.58 * np.sqrt(expected_exceptions_param * (1 - confidence_level))\n",
    "\n",
    "print(f\"Number of exceptions: {num_exceptions_param}\")\n",
    "print(f\"Expected number of exceptions: {expected_exceptions_param:.2f}\")\n",
    "print(f\"Green zone threshold: {green_zone_threshold_param:.2f}\")\n",
    "print(f\"Yellow zone threshold: {yellow_zone_threshold_param:.2f}\")\n",
    "\n",
    "# Determine the zone\n",
    "if num_exceptions_param <= green_zone_threshold_param:\n",
    "    print(\"Traffic Light Test: Green zone (Model is accurate)\")\n",
    "elif num_exceptions_param <= yellow_zone_threshold_param:\n",
    "    print(\"Traffic Light Test: Yellow zone (Model needs improvement)\")\n",
    "else:\n",
    "    print(\"Traffic Light Test: Red zone (Model is not accurate)\")"
   ]
  },
  {
   "cell_type": "code",
   "execution_count": 266,
   "metadata": {},
   "outputs": [
    {
     "name": "stdout",
     "output_type": "stream",
     "text": [
      "Number of exceptions: 57\n",
      "Expected number of exceptions: 62.75\n",
      "Green zone threshold: 66.22\n",
      "Yellow zone threshold: 67.32\n",
      "Traffic Light Test: Green zone (Model is accurate)\n"
     ]
    }
   ],
   "source": [
    "# 2.3) Traffic Light Test for monte carlo method\n",
    "\n",
    "# Calculate the number of exceptions\n",
    "exceptions_param = df['Returns'] < VaR_mc\n",
    "num_exceptions_mc = np.sum(exceptions_param)\n",
    "\n",
    "# Calculate the expected number of exceptions\n",
    "num_days = len(df['Returns'].dropna())\n",
    "expected_exceptions_param = num_days * (1 - confidence_level)\n",
    "\n",
    "# Define the thresholds for the Traffic Light Test\n",
    "green_zone_threshold_param = expected_exceptions_mc + 1.96 * np.sqrt(expected_exceptions_param * (1 - confidence_level))\n",
    "yellow_zone_threshold_param = expected_exceptions_mc + 2.58 * np.sqrt(expected_exceptions_param * (1 - confidence_level))\n",
    "\n",
    "print(f\"Number of exceptions: {num_exceptions_mc}\")\n",
    "print(f\"Expected number of exceptions: {expected_exceptions_mc:.2f}\")\n",
    "print(f\"Green zone threshold: {green_zone_threshold_param:.2f}\")\n",
    "print(f\"Yellow zone threshold: {yellow_zone_threshold_param:.2f}\")\n",
    "\n",
    "# Determine the zone\n",
    "if num_exceptions_mc <= green_zone_threshold_param:\n",
    "    print(\"Traffic Light Test: Green zone (Model is accurate)\")\n",
    "elif num_exceptions_mc <= yellow_zone_threshold_param:\n",
    "    print(\"Traffic Light Test: Yellow zone (Model needs improvement)\")\n",
    "else:\n",
    "    print(\"Traffic Light Test: Red zone (Model is not accurate)\")"
   ]
  },
  {
   "cell_type": "code",
   "execution_count": 267,
   "metadata": {},
   "outputs": [],
   "source": [
    "########### Expected Shortfall ###########"
   ]
  },
  {
   "cell_type": "code",
   "execution_count": 268,
   "metadata": {},
   "outputs": [
    {
     "name": "stdout",
     "output_type": "stream",
     "text": [
      "Historical Simulation ES (95% confidence): -0.0435\n"
     ]
    }
   ],
   "source": [
    "# 1) Expected Shortfall (ES) for Historical Simulation Method\n",
    "\n",
    "def calculate_es_historical(returns, confidence_level):\n",
    "    var = np.percentile(returns, (1 - confidence_level) * 100)\n",
    "    es = returns[returns < var].mean()\n",
    "    return es\n",
    "\n",
    "es_hist = calculate_es_historical(df['Returns'].dropna(), confidence_level)\n",
    "print(f\"Historical Simulation ES (95% confidence): {es_hist:.4f}\")"
   ]
  },
  {
   "cell_type": "code",
   "execution_count": 269,
   "metadata": {},
   "outputs": [
    {
     "name": "stdout",
     "output_type": "stream",
     "text": [
      "Variance-Covariance ES (95% confidence): 0.0129\n"
     ]
    }
   ],
   "source": [
    "# 2) Expected Shortfall (ES) for for Variance-Covariance (Parametric) Method\n",
    "\n",
    "def calculate_es_parametric(mean_return, std_return, confidence_level):\n",
    "    var = mean_return - std_return * np.percentile(df['Returns'].dropna(), (1 - confidence_level) * 100)\n",
    "    es = mean_return - std_return * (np.percentile(df['Returns'].dropna(), (1 - confidence_level) * 100) / (1 - confidence_level))\n",
    "    return es\n",
    "\n",
    "es_param = calculate_es_parametric(mean, std, confidence_level)\n",
    "print(f\"Variance-Covariance ES (95% confidence): {es_param:.4f}\")"
   ]
  },
  {
   "cell_type": "code",
   "execution_count": 270,
   "metadata": {},
   "outputs": [
    {
     "name": "stdout",
     "output_type": "stream",
     "text": [
      "Monte Carlo ES (95% confidence): -0.0395\n"
     ]
    }
   ],
   "source": [
    "# 3) Expected Shortfall (ES) for for Monte Carlo Method\n",
    "\n",
    "def calculate_es_monte_carlo(simulated_returns, confidence_level):\n",
    "    var = np.percentile(simulated_returns, (1 - confidence_level) * 100)\n",
    "    es = simulated_returns[simulated_returns < var].mean()\n",
    "    return es\n",
    "\n",
    "es_mc=calculate_es_monte_carlo(simulated_returns, confidence_level)\n",
    "print(f\"Monte Carlo ES (95% confidence): {es_mc:.4f}\")"
   ]
  },
  {
   "cell_type": "code",
   "execution_count": 271,
   "metadata": {},
   "outputs": [
    {
     "name": "stdout",
     "output_type": "stream",
     "text": [
      "Historical Simulation VaR (95% confidence): -0.0299\n",
      "Historical Simulation ES (95% confidence): -0.0435\n",
      "Variance-Covariance VaR (95% confidence): 0.0018\n",
      "Variance-Covariance ES (95% confidence): 0.0129\n",
      "Monte Carlo Simulation VaR (95% confidence): -0.0312\n",
      "Monte Carlo Simulation ES (95% confidence): -0.0395\n"
     ]
    }
   ],
   "source": [
    "# Compare ES with VaR for each method\n",
    "print(f\"Historical Simulation VaR (95% confidence): {VaR_hist:.4f}\")\n",
    "print(f\"Historical Simulation ES (95% confidence): {es_hist:.4f}\")\n",
    "\n",
    "print(f\"Variance-Covariance VaR (95% confidence): {VaR_param:.4f}\")\n",
    "print(f\"Variance-Covariance ES (95% confidence): {es_param:.4f}\")\n",
    "\n",
    "print(f\"Monte Carlo Simulation VaR (95% confidence): {VaR_mc:.4f}\")\n",
    "print(f\"Monte Carlo Simulation ES (95% confidence): {es_mc:.4f}\")"
   ]
  },
  {
   "cell_type": "code",
   "execution_count": 272,
   "metadata": {},
   "outputs": [
    {
     "name": "stdout",
     "output_type": "stream",
     "text": [
      "Historical Simulation Method:\n",
      "Tail Risk (mean of losses beyond VaR): -0.0435\n",
      "Expected Shortfall (ES): -0.0435\n",
      "Variance-Covariance Method:\n",
      "Tail Risk (mean of losses beyond VaR): -0.0122\n",
      "Expected Shortfall (ES): 0.0129\n",
      "Monte Carlo Simulation Method:\n",
      "Tail Risk (mean of losses beyond VaR): -0.0395\n",
      "Expected Shortfall (ES): -0.0395\n"
     ]
    }
   ],
   "source": [
    "# Analysis to evaluate risk under tail events\n",
    "def analyze_tail_risk(returns, var, es):\n",
    "    tail_losses = returns[returns < var]\n",
    "    tail_risk = tail_losses.mean()\n",
    "    print(f\"Tail Risk (mean of losses beyond VaR): {tail_risk:.4f}\")\n",
    "    print(f\"Expected Shortfall (ES): {es:.4f}\")\n",
    "\n",
    "# Historical Simulation Method\n",
    "print(\"Historical Simulation Method:\")\n",
    "analyze_tail_risk(df['Returns'].dropna(), VaR_hist, es_hist)\n",
    "\n",
    "# Variance-Covariance (Parametric) Method\n",
    "print(\"Variance-Covariance Method:\")\n",
    "analyze_tail_risk(df['Returns'].dropna(), VaR_param, es_param)\n",
    "\n",
    "# Monte Carlo Simulation Method\n",
    "print(\"Monte Carlo Simulation Method:\")\n",
    "analyze_tail_risk(simulated_returns, VaR_mc, es_mc)"
   ]
  }
 ],
 "metadata": {
  "kernelspec": {
   "display_name": "Python 3",
   "language": "python",
   "name": "python3"
  },
  "language_info": {
   "codemirror_mode": {
    "name": "ipython",
    "version": 3
   },
   "file_extension": ".py",
   "mimetype": "text/x-python",
   "name": "python",
   "nbconvert_exporter": "python",
   "pygments_lexer": "ipython3",
   "version": "3.12.3"
  }
 },
 "nbformat": 4,
 "nbformat_minor": 2
}
